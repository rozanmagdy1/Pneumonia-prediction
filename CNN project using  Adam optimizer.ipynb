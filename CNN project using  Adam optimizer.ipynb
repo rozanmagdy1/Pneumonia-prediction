{
 "cells": [
  {
   "cell_type": "code",
   "execution_count": 1,
   "id": "dd0f4953",
   "metadata": {},
   "outputs": [],
   "source": [
    "from keras.models import Sequential\n",
    "from keras.layers import Conv2D\n",
    "from keras.layers import MaxPool2D\n",
    "from keras.layers import Flatten\n",
    "from keras.layers import Dense\n",
    "from keras.layers import Dropout # optionally we can remove dropout from our layers\n",
    "from keras.optimizers import SGD\n",
    "from keras.optimizers import RMSprop"
   ]
  },
  {
   "cell_type": "code",
   "execution_count": 2,
   "id": "cf4fc9dc",
   "metadata": {},
   "outputs": [],
   "source": [
    "import tensorflow as tf\n",
    "from keras.preprocessing.image import ImageDataGenerator"
   ]
  },
  {
   "cell_type": "code",
   "execution_count": 3,
   "id": "b60bad63",
   "metadata": {},
   "outputs": [],
   "source": [
    "#Initialising the Neural Network\n",
    "classifier = Sequential()"
   ]
  },
  {
   "cell_type": "code",
   "execution_count": 4,
   "id": "3e5a1233",
   "metadata": {},
   "outputs": [],
   "source": [
    "#Convolution\n",
    "classifier.add(Conv2D(filters = 32,\n",
    "                        kernel_size = 3,\n",
    "                        input_shape = [128, 128, 3],\n",
    "                        activation = 'relu'))"
   ]
  },
  {
   "cell_type": "code",
   "execution_count": 5,
   "id": "95f59645",
   "metadata": {},
   "outputs": [],
   "source": [
    "#Pooling\n",
    "classifier.add(MaxPool2D(pool_size = 2,\n",
    "                        strides = 2))"
   ]
  },
  {
   "cell_type": "code",
   "execution_count": 6,
   "id": "012767d2",
   "metadata": {},
   "outputs": [],
   "source": [
    "#Adding additional layers\n",
    "# Second convolution layer\n",
    "classifier.add(Conv2D(filters = 32,\n",
    "                        kernel_size = 3,\n",
    "                        activation = 'relu'))\n",
    "classifier.add(Dropout(0.5))\n",
    "classifier.add(MaxPool2D(pool_size = 2,\n",
    "                        strides = 2))\n",
    "\n",
    "# Third convolution layer\n",
    "classifier.add(Conv2D(filters = 32,\n",
    "                        kernel_size = 3,\n",
    "                        activation = 'relu'))\n",
    "classifier.add(Dropout(0.2))\n",
    "classifier.add(MaxPool2D(pool_size = 2,\n",
    "                        strides = 2))\n",
    "\n",
    "# Fourth convolution layer\n",
    "classifier.add(Conv2D(filters = 32,\n",
    "                        kernel_size = 3,\n",
    "                        activation = 'relu'))\n",
    "classifier.add(Dropout(0.2))\n",
    "classifier.add(MaxPool2D(pool_size = 2,\n",
    "                        strides = 2))\n"
   ]
  },
  {
   "cell_type": "code",
   "execution_count": 7,
   "id": "ec648f9f",
   "metadata": {},
   "outputs": [],
   "source": [
    "#Flattening\n",
    "classifier.add(Flatten())"
   ]
  },
  {
   "cell_type": "code",
   "execution_count": 8,
   "id": "72c21ee6",
   "metadata": {},
   "outputs": [],
   "source": [
    "#Full connection (output layer)\n",
    "classifier.add(Dense(units = 32,\n",
    "                   activation = 'relu'))\n",
    "classifier.add(Dense(units = 1,\n",
    "                activation = 'sigmoid'))"
   ]
  },
  {
   "cell_type": "code",
   "execution_count": 9,
   "id": "39c9de38",
   "metadata": {},
   "outputs": [],
   "source": [
    "#Compiling the neural network\n",
    "classifier.compile(optimizer = 'Adam',\n",
    "                   loss = 'binary_crossentropy',\n",
    "                   metrics = ['accuracy'])"
   ]
  },
  {
   "cell_type": "code",
   "execution_count": 10,
   "id": "0c73326d",
   "metadata": {},
   "outputs": [
    {
     "name": "stdout",
     "output_type": "stream",
     "text": [
      "Model: \"sequential\"\n",
      "_________________________________________________________________\n",
      "Layer (type)                 Output Shape              Param #   \n",
      "=================================================================\n",
      "conv2d (Conv2D)              (None, 126, 126, 32)      896       \n",
      "_________________________________________________________________\n",
      "max_pooling2d (MaxPooling2D) (None, 63, 63, 32)        0         \n",
      "_________________________________________________________________\n",
      "conv2d_1 (Conv2D)            (None, 61, 61, 32)        9248      \n",
      "_________________________________________________________________\n",
      "dropout (Dropout)            (None, 61, 61, 32)        0         \n",
      "_________________________________________________________________\n",
      "max_pooling2d_1 (MaxPooling2 (None, 30, 30, 32)        0         \n",
      "_________________________________________________________________\n",
      "conv2d_2 (Conv2D)            (None, 28, 28, 32)        9248      \n",
      "_________________________________________________________________\n",
      "dropout_1 (Dropout)          (None, 28, 28, 32)        0         \n",
      "_________________________________________________________________\n",
      "max_pooling2d_2 (MaxPooling2 (None, 14, 14, 32)        0         \n",
      "_________________________________________________________________\n",
      "conv2d_3 (Conv2D)            (None, 12, 12, 32)        9248      \n",
      "_________________________________________________________________\n",
      "dropout_2 (Dropout)          (None, 12, 12, 32)        0         \n",
      "_________________________________________________________________\n",
      "max_pooling2d_3 (MaxPooling2 (None, 6, 6, 32)          0         \n",
      "_________________________________________________________________\n",
      "flatten (Flatten)            (None, 1152)              0         \n",
      "_________________________________________________________________\n",
      "dense (Dense)                (None, 32)                36896     \n",
      "_________________________________________________________________\n",
      "dense_1 (Dense)              (None, 1)                 33        \n",
      "=================================================================\n",
      "Total params: 65,569\n",
      "Trainable params: 65,569\n",
      "Non-trainable params: 0\n",
      "_________________________________________________________________\n"
     ]
    }
   ],
   "source": [
    "classifier.summary()"
   ]
  },
  {
   "cell_type": "code",
   "execution_count": 11,
   "id": "8e34b226",
   "metadata": {},
   "outputs": [],
   "source": [
    "#Importing train and test images\n",
    "train_datagen = ImageDataGenerator(\n",
    "        rescale = 1./255,\n",
    "        shear_range = 0.2,\n",
    "        zoom_range = 0.2,\n",
    "        horizontal_flip = True)\n",
    "\n",
    "test_datagen = ImageDataGenerator(rescale = 1./255)"
   ]
  },
  {
   "cell_type": "code",
   "execution_count": 12,
   "id": "916676f6",
   "metadata": {},
   "outputs": [
    {
     "name": "stdout",
     "output_type": "stream",
     "text": [
      "Found 5216 images belonging to 2 classes.\n"
     ]
    }
   ],
   "source": [
    "training_set = train_datagen.flow_from_directory('A:/downloads/archive/chest_xray/chest_xray/train',\n",
    "                                                 target_size = (128, 128),\n",
    "                                                 batch_size = 32,\n",
    "                                                 class_mode = 'binary')"
   ]
  },
  {
   "cell_type": "code",
   "execution_count": 13,
   "id": "0a046540",
   "metadata": {},
   "outputs": [
    {
     "name": "stdout",
     "output_type": "stream",
     "text": [
      "Found 624 images belonging to 2 classes.\n"
     ]
    }
   ],
   "source": [
    "test_set = test_datagen.flow_from_directory('A:/downloads/archive/chest_xray/chest_xray/test',\n",
    "                                            target_size = (128, 128),\n",
    "                                            batch_size = 32,\n",
    "                                            class_mode = 'binary')"
   ]
  },
  {
   "cell_type": "code",
   "execution_count": 14,
   "id": "86210df0",
   "metadata": {},
   "outputs": [
    {
     "name": "stdout",
     "output_type": "stream",
     "text": [
      "163/163 [==============================] - 399s 2s/step - loss: 0.5505 - accuracy: 0.7264 - val_loss: 0.4977 - val_accuracy: 0.7660\n"
     ]
    },
    {
     "data": {
      "text/plain": [
       "<keras.callbacks.History at 0x2ce14d1c3a0>"
      ]
     },
     "execution_count": 14,
     "metadata": {},
     "output_type": "execute_result"
    }
   ],
   "source": [
    "#Fitting the classifier to the dataset\n",
    "classifier.fit(x = training_set,\n",
    "                epochs = 1,\n",
    "                validation_data = test_set)"
   ]
  },
  {
   "cell_type": "code",
   "execution_count": 15,
   "id": "a3f7e6db",
   "metadata": {},
   "outputs": [],
   "source": [
    "from tensorflow.keras.preprocessing.image import ImageDataGenerator"
   ]
  },
  {
   "cell_type": "code",
   "execution_count": 16,
   "id": "bff8fa46",
   "metadata": {},
   "outputs": [
    {
     "name": "stdout",
     "output_type": "stream",
     "text": [
      "20/20 [==============================] - 8s 401ms/step - loss: 0.4977 - accuracy: 0.7660\n",
      "loss rate at evaluation data : 0.4977322518825531\n",
      "accuracy rate at evaluation data : 0.7660256624221802\n"
     ]
    }
   ],
   "source": [
    "evaluation_result =classifier.evaluate(x=test_set)\n",
    "print('loss rate at evaluation data :', evaluation_result[0])\n",
    "print('accuracy rate at evaluation data :',evaluation_result[1])\n"
   ]
  },
  {
   "cell_type": "code",
   "execution_count": 17,
   "id": "24e53e4a",
   "metadata": {},
   "outputs": [],
   "source": [
    "import numpy as np\n",
    "from keras.preprocessing import image\n",
    "import matplotlib.pyplot as plt"
   ]
  },
  {
   "cell_type": "code",
   "execution_count": 18,
   "id": "74c7e172",
   "metadata": {},
   "outputs": [
    {
     "data": {
      "image/png": "[encoded data removed]",
      "text/plain": [
       "<Figure size 432x288 with 1 Axes>"
      ]
     },
     "metadata": {
      "needs_background": "light"
     },
     "output_type": "display_data"
    },
    {
     "name": "stdout",
     "output_type": "stream",
     "text": [
      "PNEUMONIA\n"
     ]
    }
   ],
   "source": [
    "img=image.load_img('A:/downloads/archive/chest_xray/test/PNEUMONIA/person63_virus_121.jpeg',target_size=(128,128))\n",
    "plt.imshow(img)\n",
    "plt.show()\n",
    "img=image.img_to_array(img)\n",
    "img=np.expand_dims(img, axis=0)\n",
    "result =classifier.predict(img)\n",
    "if result[0] == 1:\n",
    "  prediction = 'PNEUMONIA'\n",
    "else:\n",
    "  prediction = 'Normal'\n",
    "print(prediction)"
   ]
  },
  {
   "cell_type": "code",
   "execution_count": 19,
   "id": "ac127b67",
   "metadata": {},
   "outputs": [
    {
     "name": "stdout",
     "output_type": "stream",
     "text": [
      "20/20 [==============================] - 9s 428ms/step - loss: 0.4977 - accuracy: 0.7660\n"
     ]
    }
   ],
   "source": [
    "evaluation_result = classifier.evaluate(x = test_set)"
   ]
  },
  {
   "cell_type": "code",
   "execution_count": null,
   "id": "138934f2",
   "metadata": {},
   "outputs": [],
   "source": []
  }
 ],
 "metadata": {
  "kernelspec": {
   "display_name": "Python 3",
   "language": "python",
   "name": "python3"
  },
  "language_info": {
   "codemirror_mode": {
    "name": "ipython",
    "version": 3
   },
   "file_extension": ".py",
   "mimetype": "text/x-python",
   "name": "python",
   "nbconvert_exporter": "python",
   "pygments_lexer": "ipython3",
   "version": "3.8.8"
  }
 },
 "nbformat": 4,
 "nbformat_minor": 5
}
